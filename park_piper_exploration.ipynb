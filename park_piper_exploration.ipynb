{
 "cells": [
  {
   "cell_type": "markdown",
   "metadata": {},
   "source": [
    "# park_piper\n",
    "\n",
    "This notebook is meant to work out the logic for a commandline Python tool that can take an ArcGIS Online point hosted feature layer and assigns it to the park that it is in."
   ]
  },
  {
   "cell_type": "markdown",
   "metadata": {},
   "source": [
    "## Libraries"
   ]
  },
  {
   "cell_type": "code",
   "execution_count": 106,
   "metadata": {},
   "outputs": [],
   "source": [
    "from arcgis.gis import GIS\n",
    "from arcgis import features\n",
    "from arcgis import geometry\n",
    "import pandas as pd\n",
    "import geopandas as gpd\n",
    "\n",
    "from copy import deepcopy\n",
    "from getpass import getpass"
   ]
  },
  {
   "cell_type": "markdown",
   "metadata": {},
   "source": [
    "## Variables"
   ]
  },
  {
   "cell_type": "code",
   "execution_count": 6,
   "metadata": {},
   "outputs": [],
   "source": [
    "PORTAL = \"https://skarplab.maps.arcgis.com\"\n",
    "USERNAME = \"skarplab\"\n",
    "PIPER_ITEM_ID = \"e26633d5fe834e248c0339d34a0f5de8\"\n",
    "PARK_ITEM_ID = \"ac9b0c87805c45668d30ce80f7e3b53d\""
   ]
  },
  {
   "cell_type": "markdown",
   "metadata": {},
   "source": [
    "## Helper Functions"
   ]
  },
  {
   "cell_type": "code",
   "execution_count": 135,
   "metadata": {},
   "outputs": [],
   "source": [
    "def agol_to_gdf(fset):\n",
    "    gdf = gpd.read_file(fset.to_geojson)\n",
    "    gdf.crs = {'init': f'epsg:{fset.spatial_reference[\"latestWkid\"]}'}\n",
    "    gdf['geometry'] = gdf['geometry'].to_crs(epsg = 4326)\n",
    "    return gdf"
   ]
  },
  {
   "cell_type": "markdown",
   "metadata": {},
   "source": [
    "## Authenticate"
   ]
  },
  {
   "cell_type": "code",
   "execution_count": 4,
   "metadata": {},
   "outputs": [
    {
     "name": "stdin",
     "output_type": "stream",
     "text": [
      " ·········\n"
     ]
    }
   ],
   "source": [
    "gis = GIS(PORTAL, \"skarplab\", getpass())"
   ]
  },
  {
   "cell_type": "markdown",
   "metadata": {},
   "source": [
    "## Load Data"
   ]
  },
  {
   "cell_type": "markdown",
   "metadata": {},
   "source": [
    "### Parks"
   ]
  },
  {
   "cell_type": "code",
   "execution_count": 136,
   "metadata": {},
   "outputs": [
    {
     "data": {
      "text/html": [
       "<div>\n",
       "<style scoped>\n",
       "    .dataframe tbody tr th:only-of-type {\n",
       "        vertical-align: middle;\n",
       "    }\n",
       "\n",
       "    .dataframe tbody tr th {\n",
       "        vertical-align: top;\n",
       "    }\n",
       "\n",
       "    .dataframe thead th {\n",
       "        text-align: right;\n",
       "    }\n",
       "</style>\n",
       "<table border=\"1\" class=\"dataframe\">\n",
       "  <thead>\n",
       "    <tr style=\"text-align: right;\">\n",
       "      <th></th>\n",
       "      <th>OBJECTID</th>\n",
       "      <th>NAME</th>\n",
       "      <th>PARK_TYPE</th>\n",
       "      <th>FILE_NUMBER</th>\n",
       "      <th>PARCEL_COUNT</th>\n",
       "      <th>DEVELOPED</th>\n",
       "      <th>MAP_ACRES</th>\n",
       "      <th>ADDRESS</th>\n",
       "      <th>ZIP_CODE</th>\n",
       "      <th>ALTERNATE_ADDRESS</th>\n",
       "      <th>LWCF</th>\n",
       "      <th>PARKID</th>\n",
       "      <th>INITIAL_AQUISITION_DATE</th>\n",
       "      <th>Shape__Area</th>\n",
       "      <th>Shape__Length</th>\n",
       "      <th>geometry</th>\n",
       "    </tr>\n",
       "  </thead>\n",
       "  <tbody>\n",
       "    <tr>\n",
       "      <th>0</th>\n",
       "      <td>1</td>\n",
       "      <td>Windemere Beaver Dam</td>\n",
       "      <td>Neighborhood</td>\n",
       "      <td>N-27</td>\n",
       "      <td>2</td>\n",
       "      <td>Developed</td>\n",
       "      <td>14.767369</td>\n",
       "      <td>1500 Nottingham Rd</td>\n",
       "      <td>27607</td>\n",
       "      <td>NA</td>\n",
       "      <td>Yes</td>\n",
       "      <td>34</td>\n",
       "      <td>-6.311520e+11</td>\n",
       "      <td>6.432640e+05</td>\n",
       "      <td>11375.221313</td>\n",
       "      <td>POLYGON ((-78.67111 35.81288, -78.67115 35.812...</td>\n",
       "    </tr>\n",
       "    <tr>\n",
       "      <th>1</th>\n",
       "      <td>2</td>\n",
       "      <td>Walnut Creek Athletic Complex</td>\n",
       "      <td>Metro</td>\n",
       "      <td>METRO-6</td>\n",
       "      <td>9</td>\n",
       "      <td>Developed</td>\n",
       "      <td>104.843799</td>\n",
       "      <td>1201 Sunnybrook Rd</td>\n",
       "      <td>27610</td>\n",
       "      <td>NA</td>\n",
       "      <td>No</td>\n",
       "      <td>35</td>\n",
       "      <td>-4.733856e+11</td>\n",
       "      <td>4.566978e+06</td>\n",
       "      <td>11257.400109</td>\n",
       "      <td>POLYGON ((-78.57502 35.76375, -78.57511 35.762...</td>\n",
       "    </tr>\n",
       "    <tr>\n",
       "      <th>2</th>\n",
       "      <td>3</td>\n",
       "      <td>Thornton Road Property</td>\n",
       "      <td>Community</td>\n",
       "      <td>C-17</td>\n",
       "      <td>2</td>\n",
       "      <td>Undeveloped</td>\n",
       "      <td>130.609432</td>\n",
       "      <td>5600 Thornton Rd</td>\n",
       "      <td>27616</td>\n",
       "      <td>6100 Thornton Rd</td>\n",
       "      <td>No</td>\n",
       "      <td>1</td>\n",
       "      <td>9.077184e+11</td>\n",
       "      <td>5.689324e+06</td>\n",
       "      <td>13130.109125</td>\n",
       "      <td>POLYGON ((-78.53732 35.90188, -78.53734 35.900...</td>\n",
       "    </tr>\n",
       "    <tr>\n",
       "      <th>3</th>\n",
       "      <td>4</td>\n",
       "      <td>Mary Belle Pate</td>\n",
       "      <td>Neighborhood</td>\n",
       "      <td>N-44</td>\n",
       "      <td>1</td>\n",
       "      <td>Developed</td>\n",
       "      <td>2.447495</td>\n",
       "      <td>2640 Sierra Dr</td>\n",
       "      <td>27603</td>\n",
       "      <td>NA</td>\n",
       "      <td>No</td>\n",
       "      <td>2</td>\n",
       "      <td>1.251677e+12</td>\n",
       "      <td>1.066124e+05</td>\n",
       "      <td>1412.464218</td>\n",
       "      <td>POLYGON ((-78.67968 35.75252, -78.67953 35.752...</td>\n",
       "    </tr>\n",
       "    <tr>\n",
       "      <th>4</th>\n",
       "      <td>5</td>\n",
       "      <td>Eliza Pool</td>\n",
       "      <td>Neighborhood</td>\n",
       "      <td>N-31</td>\n",
       "      <td>2</td>\n",
       "      <td>Developed</td>\n",
       "      <td>6.244034</td>\n",
       "      <td>1600 Fayetteville St</td>\n",
       "      <td>27603</td>\n",
       "      <td>NA</td>\n",
       "      <td>No</td>\n",
       "      <td>3</td>\n",
       "      <td>8.255520e+11</td>\n",
       "      <td>2.719890e+05</td>\n",
       "      <td>2738.523454</td>\n",
       "      <td>POLYGON ((-78.64268 35.75847, -78.64314 35.758...</td>\n",
       "    </tr>\n",
       "  </tbody>\n",
       "</table>\n",
       "</div>"
      ],
      "text/plain": [
       "   OBJECTID                           NAME     PARK_TYPE FILE_NUMBER  \\\n",
       "0         1           Windemere Beaver Dam  Neighborhood        N-27   \n",
       "1         2  Walnut Creek Athletic Complex         Metro     METRO-6   \n",
       "2         3         Thornton Road Property     Community        C-17   \n",
       "3         4                Mary Belle Pate  Neighborhood        N-44   \n",
       "4         5                     Eliza Pool  Neighborhood        N-31   \n",
       "\n",
       "   PARCEL_COUNT    DEVELOPED   MAP_ACRES               ADDRESS  ZIP_CODE  \\\n",
       "0             2    Developed   14.767369    1500 Nottingham Rd     27607   \n",
       "1             9    Developed  104.843799    1201 Sunnybrook Rd     27610   \n",
       "2             2  Undeveloped  130.609432      5600 Thornton Rd     27616   \n",
       "3             1    Developed    2.447495       2640 Sierra Dr      27603   \n",
       "4             2    Developed    6.244034  1600 Fayetteville St     27603   \n",
       "\n",
       "  ALTERNATE_ADDRESS LWCF  PARKID  INITIAL_AQUISITION_DATE   Shape__Area  \\\n",
       "0                NA  Yes      34            -6.311520e+11  6.432640e+05   \n",
       "1                NA   No      35            -4.733856e+11  4.566978e+06   \n",
       "2  6100 Thornton Rd   No       1             9.077184e+11  5.689324e+06   \n",
       "3                NA   No       2             1.251677e+12  1.066124e+05   \n",
       "4                NA   No       3             8.255520e+11  2.719890e+05   \n",
       "\n",
       "   Shape__Length                                           geometry  \n",
       "0   11375.221313  POLYGON ((-78.67111 35.81288, -78.67115 35.812...  \n",
       "1   11257.400109  POLYGON ((-78.57502 35.76375, -78.57511 35.762...  \n",
       "2   13130.109125  POLYGON ((-78.53732 35.90188, -78.53734 35.900...  \n",
       "3    1412.464218  POLYGON ((-78.67968 35.75252, -78.67953 35.752...  \n",
       "4    2738.523454  POLYGON ((-78.64268 35.75847, -78.64314 35.758...  "
      ]
     },
     "execution_count": 136,
     "metadata": {},
     "output_type": "execute_result"
    }
   ],
   "source": [
    "parks_item = gis.content.get(PARK_ITEM_ID).layers[0]\n",
    "parks_fset = parks_item.query()\n",
    "parks_gdf = agol_to_gdf(parks_fset)\n",
    "parks_gdf.head()"
   ]
  },
  {
   "cell_type": "markdown",
   "metadata": {},
   "source": [
    "### Points"
   ]
  },
  {
   "cell_type": "code",
   "execution_count": 138,
   "metadata": {},
   "outputs": [
    {
     "data": {
      "text/html": [
       "<div>\n",
       "<style scoped>\n",
       "    .dataframe tbody tr th:only-of-type {\n",
       "        vertical-align: middle;\n",
       "    }\n",
       "\n",
       "    .dataframe tbody tr th {\n",
       "        vertical-align: top;\n",
       "    }\n",
       "\n",
       "    .dataframe thead th {\n",
       "        text-align: right;\n",
       "    }\n",
       "</style>\n",
       "<table border=\"1\" class=\"dataframe\">\n",
       "  <thead>\n",
       "    <tr style=\"text-align: right;\">\n",
       "      <th></th>\n",
       "      <th>OBJECTID</th>\n",
       "      <th>GlobalID</th>\n",
       "      <th>CreationDate</th>\n",
       "      <th>Creator</th>\n",
       "      <th>EditDate</th>\n",
       "      <th>Editor</th>\n",
       "      <th>ParkName</th>\n",
       "      <th>geometry</th>\n",
       "    </tr>\n",
       "  </thead>\n",
       "  <tbody>\n",
       "    <tr>\n",
       "      <th>0</th>\n",
       "      <td>1</td>\n",
       "      <td>c233db9f-f8d8-43da-8608-32ffacc75321</td>\n",
       "      <td>1572631793424</td>\n",
       "      <td>skarplab</td>\n",
       "      <td>1572631793424</td>\n",
       "      <td>skarplab</td>\n",
       "      <td>None</td>\n",
       "      <td>POINT (-78.65603 35.76899)</td>\n",
       "    </tr>\n",
       "    <tr>\n",
       "      <th>1</th>\n",
       "      <td>2</td>\n",
       "      <td>8ebccb95-fc93-4453-9dc1-9bf040fd09de</td>\n",
       "      <td>1572631801229</td>\n",
       "      <td>skarplab</td>\n",
       "      <td>1572631801229</td>\n",
       "      <td>skarplab</td>\n",
       "      <td>None</td>\n",
       "      <td>POINT (-78.65003 35.79249)</td>\n",
       "    </tr>\n",
       "    <tr>\n",
       "      <th>2</th>\n",
       "      <td>3</td>\n",
       "      <td>2a264f37-e889-4bf2-9b67-cad6f1ce1d85</td>\n",
       "      <td>1572631806948</td>\n",
       "      <td>skarplab</td>\n",
       "      <td>1572631806948</td>\n",
       "      <td>skarplab</td>\n",
       "      <td>None</td>\n",
       "      <td>POINT (-78.66964 35.79252)</td>\n",
       "    </tr>\n",
       "    <tr>\n",
       "      <th>3</th>\n",
       "      <td>4</td>\n",
       "      <td>60a19999-d939-43bf-a965-6aaea9eaa838</td>\n",
       "      <td>1572631811105</td>\n",
       "      <td>skarplab</td>\n",
       "      <td>1572631811105</td>\n",
       "      <td>skarplab</td>\n",
       "      <td>None</td>\n",
       "      <td>POINT (-78.61441 35.79698)</td>\n",
       "    </tr>\n",
       "    <tr>\n",
       "      <th>4</th>\n",
       "      <td>5</td>\n",
       "      <td>8fa686a4-a531-4a4b-a94e-d51badcef9ad</td>\n",
       "      <td>1572631819017</td>\n",
       "      <td>skarplab</td>\n",
       "      <td>1572631819017</td>\n",
       "      <td>skarplab</td>\n",
       "      <td>None</td>\n",
       "      <td>POINT (-78.66445 35.78124)</td>\n",
       "    </tr>\n",
       "  </tbody>\n",
       "</table>\n",
       "</div>"
      ],
      "text/plain": [
       "   OBJECTID                              GlobalID   CreationDate   Creator  \\\n",
       "0         1  c233db9f-f8d8-43da-8608-32ffacc75321  1572631793424  skarplab   \n",
       "1         2  8ebccb95-fc93-4453-9dc1-9bf040fd09de  1572631801229  skarplab   \n",
       "2         3  2a264f37-e889-4bf2-9b67-cad6f1ce1d85  1572631806948  skarplab   \n",
       "3         4  60a19999-d939-43bf-a965-6aaea9eaa838  1572631811105  skarplab   \n",
       "4         5  8fa686a4-a531-4a4b-a94e-d51badcef9ad  1572631819017  skarplab   \n",
       "\n",
       "        EditDate    Editor ParkName                    geometry  \n",
       "0  1572631793424  skarplab     None  POINT (-78.65603 35.76899)  \n",
       "1  1572631801229  skarplab     None  POINT (-78.65003 35.79249)  \n",
       "2  1572631806948  skarplab     None  POINT (-78.66964 35.79252)  \n",
       "3  1572631811105  skarplab     None  POINT (-78.61441 35.79698)  \n",
       "4  1572631819017  skarplab     None  POINT (-78.66445 35.78124)  "
      ]
     },
     "execution_count": 138,
     "metadata": {},
     "output_type": "execute_result"
    }
   ],
   "source": [
    "points_item = gis.content.get(PIPER_ITEM_ID).layers[0]\n",
    "points_fset = points_item.query()\n",
    "points_gdf = agol_to_gdf(points_fset)\n",
    "points_gdf.head()"
   ]
  },
  {
   "cell_type": "markdown",
   "metadata": {},
   "source": [
    "## Noodles"
   ]
  },
  {
   "cell_type": "markdown",
   "metadata": {},
   "source": [
    "### Try to do some intersection stuff"
   ]
  },
  {
   "cell_type": "code",
   "execution_count": 156,
   "metadata": {},
   "outputs": [
    {
     "data": {
      "text/html": [
       "<div>\n",
       "<style scoped>\n",
       "    .dataframe tbody tr th:only-of-type {\n",
       "        vertical-align: middle;\n",
       "    }\n",
       "\n",
       "    .dataframe tbody tr th {\n",
       "        vertical-align: top;\n",
       "    }\n",
       "\n",
       "    .dataframe thead th {\n",
       "        text-align: right;\n",
       "    }\n",
       "</style>\n",
       "<table border=\"1\" class=\"dataframe\">\n",
       "  <thead>\n",
       "    <tr style=\"text-align: right;\">\n",
       "      <th></th>\n",
       "      <th>OBJECTID</th>\n",
       "      <th>GlobalID</th>\n",
       "      <th>CreationDate</th>\n",
       "      <th>Creator</th>\n",
       "      <th>EditDate</th>\n",
       "      <th>Editor</th>\n",
       "      <th>ParkName</th>\n",
       "      <th>geometry</th>\n",
       "    </tr>\n",
       "  </thead>\n",
       "  <tbody>\n",
       "    <tr>\n",
       "      <th>0</th>\n",
       "      <td>1</td>\n",
       "      <td>c233db9f-f8d8-43da-8608-32ffacc75321</td>\n",
       "      <td>1572631793424</td>\n",
       "      <td>skarplab</td>\n",
       "      <td>1572631793424</td>\n",
       "      <td>skarplab</td>\n",
       "      <td>Dorothea Dix Park</td>\n",
       "      <td>POINT (-78.65603 35.76899)</td>\n",
       "    </tr>\n",
       "    <tr>\n",
       "      <th>1</th>\n",
       "      <td>2</td>\n",
       "      <td>8ebccb95-fc93-4453-9dc1-9bf040fd09de</td>\n",
       "      <td>1572631801229</td>\n",
       "      <td>skarplab</td>\n",
       "      <td>1572631801229</td>\n",
       "      <td>skarplab</td>\n",
       "      <td>Fred Fletcher</td>\n",
       "      <td>POINT (-78.65003 35.79249)</td>\n",
       "    </tr>\n",
       "    <tr>\n",
       "      <th>2</th>\n",
       "      <td>3</td>\n",
       "      <td>2a264f37-e889-4bf2-9b67-cad6f1ce1d85</td>\n",
       "      <td>1572631806948</td>\n",
       "      <td>skarplab</td>\n",
       "      <td>1572631806948</td>\n",
       "      <td>skarplab</td>\n",
       "      <td>Isabella Cannon</td>\n",
       "      <td>POINT (-78.66964 35.79252)</td>\n",
       "    </tr>\n",
       "    <tr>\n",
       "      <th>3</th>\n",
       "      <td>4</td>\n",
       "      <td>60a19999-d939-43bf-a965-6aaea9eaa838</td>\n",
       "      <td>1572631811105</td>\n",
       "      <td>skarplab</td>\n",
       "      <td>1572631811105</td>\n",
       "      <td>skarplab</td>\n",
       "      <td>Lions</td>\n",
       "      <td>POINT (-78.61441 35.79698)</td>\n",
       "    </tr>\n",
       "    <tr>\n",
       "      <th>4</th>\n",
       "      <td>5</td>\n",
       "      <td>8fa686a4-a531-4a4b-a94e-d51badcef9ad</td>\n",
       "      <td>1572631819017</td>\n",
       "      <td>skarplab</td>\n",
       "      <td>1572631819017</td>\n",
       "      <td>skarplab</td>\n",
       "      <td>Pullen</td>\n",
       "      <td>POINT (-78.66445 35.78124)</td>\n",
       "    </tr>\n",
       "  </tbody>\n",
       "</table>\n",
       "</div>"
      ],
      "text/plain": [
       "   OBJECTID                              GlobalID   CreationDate   Creator  \\\n",
       "0         1  c233db9f-f8d8-43da-8608-32ffacc75321  1572631793424  skarplab   \n",
       "1         2  8ebccb95-fc93-4453-9dc1-9bf040fd09de  1572631801229  skarplab   \n",
       "2         3  2a264f37-e889-4bf2-9b67-cad6f1ce1d85  1572631806948  skarplab   \n",
       "3         4  60a19999-d939-43bf-a965-6aaea9eaa838  1572631811105  skarplab   \n",
       "4         5  8fa686a4-a531-4a4b-a94e-d51badcef9ad  1572631819017  skarplab   \n",
       "\n",
       "        EditDate    Editor           ParkName                    geometry  \n",
       "0  1572631793424  skarplab  Dorothea Dix Park  POINT (-78.65603 35.76899)  \n",
       "1  1572631801229  skarplab      Fred Fletcher  POINT (-78.65003 35.79249)  \n",
       "2  1572631806948  skarplab    Isabella Cannon  POINT (-78.66964 35.79252)  \n",
       "3  1572631811105  skarplab              Lions  POINT (-78.61441 35.79698)  \n",
       "4  1572631819017  skarplab             Pullen  POINT (-78.66445 35.78124)  "
      ]
     },
     "execution_count": 156,
     "metadata": {},
     "output_type": "execute_result"
    }
   ],
   "source": [
    "# TODO: There's got to be a more idiomatic way to get at the park name here\n",
    "points_gdf['ParkName'] = points_gdf.apply(lambda x: list(parks_gdf[parks_gdf['geometry'].contains(x['geometry'])]['NAME'])[0], axis = 1)\n",
    "points_gdf.head()"
   ]
  },
  {
   "cell_type": "code",
   "execution_count": null,
   "metadata": {},
   "outputs": [],
   "source": []
  }
 ],
 "metadata": {
  "kernelspec": {
   "display_name": "Python 3",
   "language": "python",
   "name": "python3"
  },
  "language_info": {
   "codemirror_mode": {
    "name": "ipython",
    "version": 3
   },
   "file_extension": ".py",
   "mimetype": "text/x-python",
   "name": "python",
   "nbconvert_exporter": "python",
   "pygments_lexer": "ipython3",
   "version": "3.7.3"
  }
 },
 "nbformat": 4,
 "nbformat_minor": 4
}
