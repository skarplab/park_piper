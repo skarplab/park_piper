{
 "cells": [
  {
   "cell_type": "markdown",
   "metadata": {},
   "source": [
    "# park_piper\n",
    "\n",
    "This notebook is meant to work out the logic for a commandline Python tool that can take an ArcGIS Online point hosted feature layer and assigns it to the park that it is in."
   ]
  },
  {
   "cell_type": "markdown",
   "metadata": {},
   "source": [
    "## Libraries"
   ]
  },
  {
   "cell_type": "code",
   "execution_count": 1,
   "metadata": {},
   "outputs": [],
   "source": [
    "from arcgis.gis import GIS\n",
    "from arcgis import features\n",
    "from arcgis import geometry\n",
    "import pandas as pd\n",
    "import geopandas as gpd\n",
    "\n",
    "from copy import deepcopy\n",
    "from getpass import getpass"
   ]
  },
  {
   "cell_type": "markdown",
   "metadata": {},
   "source": [
    "## Variables"
   ]
  },
  {
   "cell_type": "code",
   "execution_count": 2,
   "metadata": {},
   "outputs": [],
   "source": [
    "PORTAL = \"https://skarplab.maps.arcgis.com\"\n",
    "USERNAME = \"skarplab\"\n",
    "PIPER_ITEM_ID = \"e26633d5fe834e248c0339d34a0f5de8\"\n",
    "PARK_ITEM_ID = \"ac9b0c87805c45668d30ce80f7e3b53d\""
   ]
  },
  {
   "cell_type": "markdown",
   "metadata": {},
   "source": [
    "## Helper Functions"
   ]
  },
  {
   "cell_type": "code",
   "execution_count": 3,
   "metadata": {},
   "outputs": [],
   "source": [
    "def agol_to_gdf(fset):\n",
    "    gdf = gpd.read_file(fset.to_geojson)\n",
    "    gdf.crs = {'init': f'epsg:{fset.spatial_reference[\"latestWkid\"]}'}\n",
    "    gdf['geometry'] = gdf['geometry'].to_crs(epsg = 4326)\n",
    "    return gdf"
   ]
  },
  {
   "cell_type": "markdown",
   "metadata": {},
   "source": [
    "## Authenticate"
   ]
  },
  {
   "cell_type": "code",
   "execution_count": 6,
   "metadata": {},
   "outputs": [
    {
     "name": "stdin",
     "output_type": "stream",
     "text": [
      " ·········\n"
     ]
    }
   ],
   "source": [
    "gis = GIS(PORTAL, \"skarplab\", getpass())"
   ]
  },
  {
   "cell_type": "code",
   "execution_count": 71,
   "metadata": {},
   "outputs": [],
   "source": [
    "def park_piper(gis, piper_item, piper_feature_id_field, piper_update_field, park_item):\n",
    "    \n",
    "    # Parks\n",
    "    parks_flayer = gis.content.get(park_item[0]).layers[park_item[1]]\n",
    "    parks_fset = parks_flayer.query()\n",
    "    parks_gdf = agol_to_gdf(parks_fset)\n",
    "\n",
    "    # Piper features\n",
    "\n",
    "    piper_flayer = gis.content.get(piper_item[0]).layers[piper_item[1]]\n",
    "    piper_full_fset = piper_flayer.query()\n",
    "    piper_no_park_fset = piper_flayer.query(where = f\"{piper_update_field} IS NULL\")\n",
    "    piper_no_park_gdf = agol_to_gdf(piper_no_park_fset)\n",
    "    \n",
    "    piper_no_park_fset\n",
    "\n",
    "#     piper_gdf[piper_update_field] = piper_gdf.apply(lambda x: parks_gdf.loc[parks_gdf['geometry'].contains(x['geometry'])][piper_update_field].iloc[0], axis = 1)\n",
    "\n",
    "#     overlap_rows = pd.merge(left = piper_fset.sdf, right = points_gdf, how = 'inner', on = 'OBJECTID')\n",
    "\n",
    "#     features_for_update = []\n",
    "#     all_features = points_fset.features\n",
    "#     all_features[0]\n",
    "\n",
    "#     for id in overlap_rows['OBJECTID']:\n",
    "#         original_feature = [f for f in all_features if f.attributes['OBJECTID'] == id][0]\n",
    "#         feature_to_be_updated = deepcopy(original_feature)\n",
    "#         print(str(original_feature))\n",
    "\n",
    "#         matching_row = points_gdf.where(points_gdf[\"OBJECTID\"] == id).dropna()\n",
    "#         print(matching_row[\"ParkName\"].values[0])\n",
    "#         feature_to_be_updated.attributes[\"ParkName\"] = matching_row[\"ParkName\"].values[0]\n",
    "\n",
    "#         features_for_update.append(feature_to_be_updated)\n",
    "#         print(f'\\n{str(feature_to_be_updated)}')\n",
    "#         print(type(feature_to_be_updated))\n",
    "#         print(\"\\n###############################################################\\n\")\n",
    "\n",
    "#     points_item.edit_features(updates = features_for_update)"
   ]
  },
  {
   "cell_type": "code",
   "execution_count": 72,
   "metadata": {},
   "outputs": [],
   "source": [
    "park_piper(gis, (PIPER_ITEM_ID, 0), 'OBJECTID', 'ParkName', (PARK_ITEM_ID, 0))"
   ]
  },
  {
   "cell_type": "code",
   "execution_count": null,
   "metadata": {},
   "outputs": [],
   "source": []
  }
 ],
 "metadata": {
  "kernelspec": {
   "display_name": "Python 3",
   "language": "python",
   "name": "python3"
  },
  "language_info": {
   "codemirror_mode": {
    "name": "ipython",
    "version": 3
   },
   "file_extension": ".py",
   "mimetype": "text/x-python",
   "name": "python",
   "nbconvert_exporter": "python",
   "pygments_lexer": "ipython3",
   "version": "3.7.3"
  }
 },
 "nbformat": 4,
 "nbformat_minor": 4
}
